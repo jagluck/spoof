{
 "cells": [
  {
   "cell_type": "code",
   "execution_count": 7,
   "metadata": {},
   "outputs": [],
   "source": [
    "# import packages\n",
    "\n",
    "import os\n",
    "from os import listdir\n",
    "from os.path import isfile, join\n",
    "import pandas as pd\n",
    "import numpy as np\n",
    "\n",
    "import math\n",
    "\n",
    "# first, we need to import our essentia module.\n",
    "import essentia\n",
    "\n",
    "# as there are 2 operating modes in essentia which have the same algorithms,\n",
    "# these latter are dispatched into 2 submodules:\n",
    "import essentia.standard\n",
    "import essentia.streaming\n",
    "\n",
    "# # pylab contains the plot() function, as well as figure, etc... (same names as Matlab)\n",
    "# from pylab import plot, show, figure, imshow\n",
    "# %matplotlib inline\n",
    "# import matplotlib.pyplot as plt\n",
    "\n",
    "from essentia.standard import *\n",
    "\n",
    "\n",
    "# import machine learning packages\n",
    "import theano\n",
    "\n",
    "from keras.models import Sequential, Model\n",
    "from keras.layers import Input, Dense, TimeDistributed, LSTM, Dropout, Activation\n",
    "from keras.layers import Convolution2D, MaxPooling2D, Flatten\n",
    "from keras.layers.normalization import BatchNormalization\n",
    "from keras.layers.advanced_activations import ELU\n",
    "from keras.callbacks import ModelCheckpoint, EarlyStopping\n",
    "from keras.utils import np_utils\n",
    "from keras import backend as K\n",
    "K.set_image_dim_ordering('th')\n",
    "\n",
    "from sklearn.metrics import confusion_matrix\n",
    "\n",
    "import tensorflow as tf\n",
    "\n",
    "import dill"
   ]
  },
  {
   "cell_type": "code",
   "execution_count": null,
   "metadata": {},
   "outputs": [],
   "source": [
    "train = pd.read_pickle(\"jake_data/train_all.pkl\")\n",
    "test = pd.read_pickle(\"jake_data/test_all.pkl\")"
   ]
  },
  {
   "cell_type": "code",
   "execution_count": null,
   "metadata": {},
   "outputs": [],
   "source": [
    "# pull out some data to make it better distributed\n",
    "train = train[0:21600]"
   ]
  },
  {
   "cell_type": "code",
   "execution_count": null,
   "metadata": {},
   "outputs": [],
   "source": [
    "# shuffle dataframe\n",
    "train = train.sample(frac=1).reset_index(drop=True)\n",
    "test = test.sample(frac=1).reset_index(drop=True)"
   ]
  },
  {
   "cell_type": "code",
   "execution_count": null,
   "metadata": {},
   "outputs": [],
   "source": [
    "# need to figure out solution for different audio lenghts, jagged arrays?\n",
    "\n",
    "X_train = []\n",
    "Y_train = []\n",
    "X_test = []\n",
    "Y_test = []\n",
    "\n",
    "X_test = np.zeros(shape=(len(test),1,13,100))\n",
    "c = 0\n",
    "for i in test[\"mfccs_files\"]:\n",
    "    l = i.shape[1]\n",
    "    b = int(math.floor((l-100)/2))\n",
    "    tp = i[0:13,b:(b + 100)]\n",
    "    X_test[c,0,:,:] = tp\n",
    "    c = c + 1\n",
    "    \n",
    "X_train = np.zeros(shape=(len(train),1,13,100))\n",
    "c = 0\n",
    "for i in train[\"mfccs_files\"]:\n",
    "    l = i.shape[1]\n",
    "    b = int(math.floor((l-100)/2))\n",
    "    tp = i[0:13,b:(b + 100)]\n",
    "    X_train[c,0,:,:] = tp\n",
    "    c = c + 1\n",
    "\n",
    "Y_train = np.zeros(shape=(len(train),2)) \n",
    "\n",
    "c = 0\n",
    "b = 0\n",
    "s = 0\n",
    "for i in train[\"output\"]:\n",
    "    if (i == \"bonafide\"):\n",
    "        b = b + 1\n",
    "        Y_train[c,:] = [np.float64(0.0),np.float64(1.0)]\n",
    "    else:\n",
    "        s = s + 1\n",
    "        Y_train[c,:] = [np.float64(1.0),np.float64(0.0)]\n",
    "    c = c + 1\n",
    "print(b)\n",
    "print(s)\n",
    "\n",
    "Y_test = np.zeros(shape=(len(test),2)) \n",
    "\n",
    "c = 0\n",
    "b = 0\n",
    "s = 0\n",
    "for i in test[\"output\"]:\n",
    "    if (i == \"bonafide\"):\n",
    "        b = b + 1\n",
    "        Y_test[c,:] = [np.float64(0.0),np.float64(1.0)]\n",
    "    else:\n",
    "        s = s + 1\n",
    "        Y_test[c,:] = [np.float64(1.0),np.float64(0.0)]\n",
    "    c = c + 1\n",
    "       \n",
    "print(b)\n",
    "print(s)"
   ]
  },
  {
   "cell_type": "code",
   "execution_count": null,
   "metadata": {},
   "outputs": [],
   "source": [
    "X_train = X_train.reshape(X_train.shape[0], 1, 13,100)\n",
    "X_test = X_test.reshape(X_test.shape[0], 1, 13,100)"
   ]
  },
  {
   "cell_type": "code",
   "execution_count": null,
   "metadata": {},
   "outputs": [],
   "source": [
    "model = Sequential()\n",
    "model.add(Convolution2D(32, (3, 3), activation='relu', input_shape=(1,13,100),data_format='channels_first'))\n",
    "\n",
    "model.add(Convolution2D(32, 3, 3))\n",
    "model.add(BatchNormalization(axis=1))\n",
    "model.add(Activation('relu'))\n",
    "model.add(ELU(alpha=1.0)) \n",
    "model.add(MaxPooling2D(pool_size=(2,2)))\n",
    "model.add(Dropout(0.25))\n",
    "\n",
    "model.add(Convolution2D(32, 3, 3))\n",
    "model.add(BatchNormalization(axis=1))\n",
    "model.add(Activation('relu'))\n",
    "model.add(ELU(alpha=1.0)) \n",
    "model.add(MaxPooling2D(pool_size=(2,2)))\n",
    "model.add(Dropout(0.25))\n",
    "\n",
    "model.add(Flatten())\n",
    "model.add(Dense(128, activation='relu'))\n",
    "model.add(Dropout(0.5))\n",
    "\n",
    "model.add(Dense(128, activation='relu'))\n",
    "model.add(Dropout(0.5))\n",
    "\n",
    "model.add(Dense(32, activation='relu'))\n",
    "model.add(Dropout(0.5))\n",
    "\n",
    "model.add(Dense(2, activation='softmax'))"
   ]
  },
  {
   "cell_type": "code",
   "execution_count": null,
   "metadata": {},
   "outputs": [],
   "source": [
    "import dill\n",
    "from sklearn.utils import class_weight\n",
    "\n",
    "# class_weights = {0: .99, 1: .01}\n",
    "\n",
    "# class_weights = class_weight.compute_class_weight('balanced',\n",
    "#                                                  np.unique(y_train),\n",
    "#                                                  y_train)\n",
    "\n",
    "# class_weights = dict(enumerate(class_weights))\n",
    "# print(class_weights)\n",
    "# print(type(class_weights))\n",
    "\n",
    "# compile to experement with better results, try not to get stuck at local min\n",
    "# model.compile(loss=[binary_focal_loss(alpha=.25, gamma=2)], metrics=[\"accuracy\"], optimizer='adam')\n",
    "\n",
    "# normal compile\n",
    "model.compile(loss='categorical_crossentropy',\n",
    "              optimizer='adam',\n",
    "              metrics=['accuracy'])"
   ]
  },
  {
   "cell_type": "code",
   "execution_count": null,
   "metadata": {},
   "outputs": [],
   "source": [
    "es = EarlyStopping(monitor='val_loss', mode='min', verbose=1, patience=2)\n",
    "\n",
    "model.fit(X_train, Y_train,\n",
    "               epochs=20,\n",
    "               shuffle=True,\n",
    "               batch_size=300,\n",
    "               class_weight=class_weights,\n",
    "               verbose=1)\n",
    "\n",
    "# model.fit(X_train, Y_train, \n",
    "#           batch_size=300, epochs=10, verbose=1)"
   ]
  },
  {
   "cell_type": "code",
   "execution_count": null,
   "metadata": {},
   "outputs": [],
   "source": [
    "score = model.evaluate(X_test, Y_test, verbose=0)\n",
    "print(\"testing accuracy \" + str(score))\n",
    "\n",
    "score = model.evaluate(X_train, Y_train, verbose=0)\n",
    "print(\"training accuracy \" + str(score))"
   ]
  },
  {
   "cell_type": "code",
   "execution_count": 154,
   "metadata": {},
   "outputs": [
    {
     "name": "stdout",
     "output_type": "stream",
     "text": [
      "training set: \n",
      "0 values 5400\n",
      "1 values 48600\n",
      "testing set: \n",
      "0 values 5400\n",
      "1 values 24300\n"
     ]
    }
   ],
   "source": [
    "y_train = []\n",
    "s = 0\n",
    "b = 0\n",
    "for i in Y_train:\n",
    "    if (i[0] == 0.0):\n",
    "        b = b + 1\n",
    "        y_train.append(0)\n",
    "    else:\n",
    "        s = s + 1\n",
    "        y_train.append(1)\n",
    " \n",
    "y_train = np.array(y_train)\n",
    "print(\"training set: \")\n",
    "print(\"0 values \" + str(b))\n",
    "print(\"1 values \" + str(s))\n",
    "\n",
    "y_test = []\n",
    "s = 0\n",
    "b = 0\n",
    "\n",
    "for i in Y_test:\n",
    "    if (i[0] == 0.0):\n",
    "        b = b + 1\n",
    "        y_test.append(0)\n",
    "    else:\n",
    "        s = s + 1\n",
    "        y_test.append(1)\n",
    " \n",
    "y_test = np.array(y_test)\n",
    "print(\"testing set: \")\n",
    "print(\"0 values \" + str(b))\n",
    "print(\"1 values \" + str(s))"
   ]
  },
  {
   "cell_type": "code",
   "execution_count": 155,
   "metadata": {},
   "outputs": [
    {
     "name": "stdout",
     "output_type": "stream",
     "text": [
      "training matrix: \n",
      "[[ 5400     0]\n",
      " [48600     0]]\n"
     ]
    }
   ],
   "source": [
    "### 1 is bonafied, 0 is spoofed audio\n",
    "train_predictions = model.predict(X_train)\n",
    "confusion = confusion_matrix(y_train, np.argmax(train_predictions,axis=1))\n",
    "print(\"training matrix: \")\n",
    "print(confusion)"
   ]
  },
  {
   "cell_type": "code",
   "execution_count": 156,
   "metadata": {},
   "outputs": [
    {
     "name": "stdout",
     "output_type": "stream",
     "text": [
      "testing matrix: \n",
      "[[ 5400     0]\n",
      " [24300     0]]\n"
     ]
    }
   ],
   "source": [
    "### 1 is bonafied, 0 is spoofed audio\n",
    "test_predictions = model.predict(X_test)\n",
    "confusion = confusion_matrix(y_test, np.argmax(test_predictions,axis=1))\n",
    "print(\"testing matrix: \")\n",
    "print(confusion)"
   ]
  },
  {
   "cell_type": "code",
   "execution_count": null,
   "metadata": {},
   "outputs": [],
   "source": []
  }
 ],
 "metadata": {
  "kernelspec": {
   "display_name": "Python 2",
   "language": "python",
   "name": "python2"
  },
  "language_info": {
   "codemirror_mode": {
    "name": "ipython",
    "version": 2
   },
   "file_extension": ".py",
   "mimetype": "text/x-python",
   "name": "python",
   "nbconvert_exporter": "python",
   "pygments_lexer": "ipython2",
   "version": "2.7.16"
  }
 },
 "nbformat": 4,
 "nbformat_minor": 2
}
